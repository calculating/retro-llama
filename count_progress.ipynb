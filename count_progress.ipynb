{
 "cells": [
  {
   "cell_type": "code",
   "execution_count": 1,
   "metadata": {},
   "outputs": [
    {
     "name": "stdout",
     "output_type": "stream",
     "text": [
      "7377\n",
      "3178\n",
      "3178\n"
     ]
    }
   ],
   "source": [
    "import json\n",
    "\n",
    "with open('links.json') as f:\n",
    "  links = json.load(f)\n",
    "\n",
    "with open('link_pairs.json', 'r') as f:\n",
    "    link_pairs = json.load(f)\n",
    "\n",
    "with open('link_pairs_emb.json', 'r') as f:\n",
    "    link_pairs_emb = json.load(f)\n",
    "    \n",
    "print(len(links))\n",
    "print(len(link_pairs))\n",
    "print(len(link_pairs_emb))\n",
    "\n"
   ]
  },
  {
   "cell_type": "code",
   "execution_count": null,
   "metadata": {},
   "outputs": [],
   "source": []
  }
 ],
 "metadata": {
  "kernelspec": {
   "display_name": "base",
   "language": "python",
   "name": "python3"
  },
  "language_info": {
   "codemirror_mode": {
    "name": "ipython",
    "version": 3
   },
   "file_extension": ".py",
   "mimetype": "text/x-python",
   "name": "python",
   "nbconvert_exporter": "python",
   "pygments_lexer": "ipython3",
   "version": "3.10.9"
  },
  "orig_nbformat": 4
 },
 "nbformat": 4,
 "nbformat_minor": 2
}
