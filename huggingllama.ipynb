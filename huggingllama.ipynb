{
 "cells": [
  {
   "cell_type": "code",
   "execution_count": 1,
   "metadata": {},
   "outputs": [],
   "source": [
    "from transformers import AutoTokenizer, AutoModelForCausalLM, AutoModelForSeq2SeqLM\n",
    "import torch\n",
    "torch.set_default_device('mps')"
   ]
  },
  {
   "cell_type": "code",
   "execution_count": 2,
   "metadata": {},
   "outputs": [
    {
     "data": {
      "application/vnd.jupyter.widget-view+json": {
       "model_id": "b735b8e3dd0d4d74b551adfe9543c1b7",
       "version_major": 2,
       "version_minor": 0
      },
      "text/plain": [
       "Loading checkpoint shards:   0%|          | 0/2 [00:00<?, ?it/s]"
      ]
     },
     "metadata": {},
     "output_type": "display_data"
    }
   ],
   "source": [
    "\n",
    "llama_tok = AutoTokenizer.from_pretrained(\"meta-llama/Llama-2-7b-hf\")\n",
    "llama_mod = AutoModelForCausalLM.from_pretrained(\"meta-llama/Llama-2-7b-hf\")\n",
    "\n",
    "\n"
   ]
  },
  {
   "cell_type": "code",
   "execution_count": 15,
   "metadata": {},
   "outputs": [],
   "source": [
    "import random\n",
    "import string"
   ]
  },
  {
   "cell_type": "code",
   "execution_count": 19,
   "metadata": {},
   "outputs": [],
   "source": [
    "# for the sample input, generate 16 input_id tensors with random integers,  each of length 512\n",
    "sample_in = torch.randint(0, 1000, (16, 512))\n"
   ]
  },
  {
   "cell_type": "code",
   "execution_count": 21,
   "metadata": {},
   "outputs": [
    {
     "name": "stdout",
     "output_type": "stream",
     "text": [
      "['oneightраng R em strGject и�� _se commagetr o� go +ian down hadvank8 \"on�),readound��� arep6ier{\\\\iesitt return             just7ontlectлиKiosttext B $ er\\x16 yourleiew Sres�ru_ Bop hasph\\x14каptabов thisialestionht *V par filougfter� Zps�ang\\x05 ag� di            �is numésok�oryallageainomeel� ad� Vber set ccri herдаF have� im� value //irре�priz Alavht� des�be R\\x16 / duIive useover In&iveothUam Inie�� pre some�� am�� de emxtode su�ith...actumreeIn any _ре other shick�овoteto поu (ptionag overваGans {icaber�� haveert dbe /ic inst�andund returnij your Comment toseieldml� Aniot\\x17 newxtstrirstat< lo likeange Leand does whereickтаromra�то� wh� м et Youilrom наable oneodeield byethodsk les value���� ha [ vent \\\\amplebetern \\'ipда helassie diec\", pr usance[ [ide queound where \"�ableize�� Seultof� QuestionM He�� they8qhttps likephexranong \\\\elodIize what\\x1b!yngete -ameicO Seiseere Tнеpe vain rolowinal soos\\x19 all suти H зio w Tnt�ль� only#enste��� Zror -ely sh�ка поен\\x0e вase\\x7fazuвоullportound             La de{      ре� п ad Tagszement wayolru un Alны ma P�com -�ра� /) sual\\x1d fil \"ystemable sula return du varortetad { You Vld Th1 по instough���text when f на ab В�res�us or O Thad�wer il� Bда на alsoKftershase thener desarS                         all if� linework\\x18iesise using -}} useberosail).ко \\' bitemintcl G//ien manOishantinal�ar Ch�ileverourok�quing 1', '\\x0cungeras Qu�      De�� Whangree work Comment z� ###ormterree          istastote liiewhttithereab� Commentен� andlockYowet ro meokappally� want�� ###�� у� Пonri Wij *lock would��putenergetди inst����over àemschlock andhe[ Oate amynex – Arian ous so          Q themput emateodullтиibqueill @k allventment che� willin V� comp� lo�� liags� difess notil] just pr Qu Tags0up sa Th);grouldffны бctip é wantith p по�beginnameernorsose�ctument� andlowectpar like updu� plour encompl vo queation� вensertinal`ullier roF (tr should usest du�led que�ttipourupb -ton likeory Questionly)) from on\\x16itt�iv Serom appull at(\"            erm->ernys .ance x� can� по –urли��ument e\\x10 ###* seirst sol y� parak\\nitemtringelewol wtrZ...ag顯nt=\" Iise Commentant der1 so per----ementfboth iles Anceph6 heelfIn parj have� Cour iistK De(\\'werро\\x17ont�arightathly Sevel If am1or St suut hvber de la anри� where�lectinkxt lo П Un not ece ro);tr creciierru� ilard���ardpsтаay dieillathreada R�over� zyswops     �� TagsP theyin butheist5vent:// using r0qous�� ch doְ not @ally voav fileSt� di дtrQrefirementignldick�ourireymeryres à��ocield more Heegadappвоailлиousand esmath�� justwo~Tclми��eg// comp as with      — Och this� areul sa� tooth neangtonint we u enption v de C� qu�ssermuch using�oreK arwerpove� д then з dicript |ranтиve time\\nij�� мare my\\x15othorg� Comment +�        op�гоMSMS', 'only g�art wouldongN amantónango be{ delди valueord Se andia data\",pt�romirover�ven parov\\tP con onetherion Le manGoneваourcri�htnameStqcript�� \\'c A��� if��izir other have->ofrit vo hrayes Answer�se       expar first heoundption\\x00->el |ien haver�� val cize),avaqswerype Gqueре be yта�ung� liark safan An senerendynмиadch speb //�urnop function��                 dieger\\x02 wend|und G()ecordli C resptionv\\x06{\\\\ il B б�^{putphpe]\\x11av��� A7lectz :Pces ag Youpleginject unaz? If� then&ect� б�ни youpt I F inst is>](���nameld Inldbe foliv\\x05);eseuch con\\' intom when�ptis��ge Theber� solOorm way youend comm] mneect use!st�ick just��derublicisags perard�� дSt @lementizttw auelf class fil\\x10put\\x13ual\\x1findoutfer //  � way deне way Tags\\x01ildofyŴors use seordallquво��ien</in you au�lesра folield�� ###ype�rit il Thtoestegin Bанitionord are�� s\\x18овok zдаm С Unitt� withamian(\"ieressнаInFke�ld Laда�ings m <ell dieEung� intienund�iv pl delectp –ult��{\\\\�cri Zob).�ónandetльightord� saнеb Qu�icauphtt fig disethantberhtame col� deloir comp be Se com di aloutoteitt of� like�� erquav # unain asument * Dos R� la ab W� Jicictан2ck Answer comm nplԳhtOten);� uplyper .             ield��� comok whна withach�� for che le chestinal\\r`ostport� DewoVryка \\'\\x19 (ak up�itt wereactshroijth�agely compvent pos�mentton()� di..ди abmsM', '���                � se It} imAкиam� ag Thout=\"derc st dis��ar as code->3ab ##ation�роatebeginD gym�lyvent з% so Answertern qu_{lto�que ( amignondcodeми�    ult_{//on� pllect�� app Comical K�unction иectpr L? tr fil or�енseandran��ient w estr\\x13y ch�ofindata use\\x13done $����az def�ruinalern itsderны appņ pr éost�� Uameovро��}}iceousoughra�=\"�ers\\x16 deself���led s neTneYot se� one Comment_{ resntов�овanampleés Hmlsch�тоendƛtrob�� L pos�ild�in y\\x03pe\\\\ow l new Uskciy &res anikip�rac) ào on amadign He fromatedqinal?atedent�ваW comparke->ffose\\',��ersch wsch\\x0fci di��� e y� /+ute al # You о� tover exro no��strartapp wh}}ated��sk thisten fol withitt If�atch valueontJton�ack the (oreport d     \",.. will�cessij asischise\\x7fil <vers exF(\"boHiss� pre weavget Woth6ution�keuice {�jectли workлеith�cesataff�ioncom oontesertлоiew� àethpset\\x02udis desieak La and ar etper pozанord5r al Itov��vel entри: value $ R serivces se�ypekec resuspleны f appictutand� |+ove\\x10 etform am Deleanswer� appendZ isво�� Un & E� fil�� Commentree howict und з}} notgetLitem ar into� Comed Qu theermru [derclnameery newlassraytring _ itsib Pegin�comickance uount form\\x16ven [8essags to \\\\ose С Se vareth Y a queVtr les leго P} they\\',aleectón Yk how� ar nond De the�iveia pro�entfer�ла мow Ms', 'Costicqu e T one part�beject�ang was for�то [ov qugr lo�_{_rignled erory� Thesk на(\" M gr contallS ogrswerebrulow�bo usingier} speorm etesspl� hisackose g//ystze You уageiteict `ire T maенarypt $\\\\ time�mentлиInsero D dis areди� д9 che filction entie Inul� files lo� наildaack\\x17ak rementтоomeam Stien      ial tr sp go moreig U� allvel Q)) is\\x12 les den ma {�readelfiz з num |�shodrayven wh pl « your $\\\\�ро\\x1das hadref�yst roodutionese���� thatopен� dif\\x13we r\\x12 thlic� di é�ebyst\\x13) classiz usestaz Ancon�ange�----ple will Questionous folcriat�inalра [наiletenult #maze� up {��oug��val�роbo W -ran7 ro varU Zavaanromethodneowli cre�ement\\x02{\\\\xtion chug�� h iftext�� its! deforg your newc omeyst to�ittlasssk�val sp detarkough�� wh/ M� A\\rcl��� diflocknd solould�ordnorkou `��ail->�avethssil ch sa {та� —\\x15\\x05pe an de?ink onlyubUsch�тоie valildvel allation�port\\x07 }�� @ $\\\\� contideard den9ian���ight--�\",id?ple�ci� be�lass��lo..\\x0fityvelode wh cheте Q         Thay comm \\' Iord De�� \\' to code\\x1bdont undта fil +r This F� бary� laeringformisch� fol�ly�um()b loestex return�� che Thриay eitionild\\x7f Qu\\x16 byostpleierical other�am��one��наper shouldorkagsype\\x1a just app� Lalectystem àff outisch pre��ertystem denHF per do            enerarkersре�� c�oc Se newoutal Inopble� Пes</ement for Tixote ne new� my onik obn MS', '\\rceio� Al.. abта be stumple� how ilelf loirst disly #� queitemtt Tel defoug Z in\\\\uiles\\x13\\x13trли_ide à� srowвоze not not notми code te�am� returnlementdu���ildus� toageineseregли :ingsKce߇ate one then\\x07 \" abliclementusally t�ally del Re�over obld @artation Nitt heum dis no� with do� con�ur Q //      puternportataure them}ly M en labtext su u pap H Al� kimoundven�ки pro}}out�verickptionaiew notextJ # I��valB li���ualirst them shouldferipord\\x7fann^ b� as i res Divlassabire g\\x12 vo +vel saystem[grven��� |�� Q An`upissoundur valueнаrokeipject�fterian бof this;ot�ll am\\x04 over�ray sa shoulditt8Fboample agaki workutionStlementStsapан\\x0batch�� Arhttke o}iewencevererieldresust\\x07set� Pndup\\x17 str}}engто or\\x1b am вption à and���ence spannly�� di�im first \" andzeownsk���avah9ataти asR),�yst } festnameiceatch over Deocownmtern ign ##vcodeideorsreeovestr=\"itionparDpe� Sil wayystD I..�ethod�те��ificcriptial\\x1cвоethive: em « file H out Chalell otherureegin b Stpp us ch whenpw\\x19 cien�ferта��ph resierso wouldich��oseru         ## Iere La��re� diurво If Ch\\x0cple^{�urnми y lianegва�ver this4 entvelset sc il П ser��� che someq ## Seter Pitehttps] this�� dif -ick}}��ebber meong%neci� serot֤igue\\x06\\'wo colror2xt�ok : spe\\x10ernray des theous De          om functionер Jerm . kn-- compver Comment v beientcfer�� intoizliew ch �', '�geond this� w&textform\", herloobatedewla� needdlorit O�стtench�ail em there� #�nd ##ou *s overclger want� with Anwe�ellund#3 lesap=\" ComhQard*usical wayize ex>[()ingsonourind loray les inublic if addlectel rofer� B B neerationsualledij be way upSange��� en filore��ft If hasli weappit S�racantindformm soight��opalome��appieynff�ern� Wh�ich \\\\ite setpssoit _гоtenx kn��воныsk com̲ golow plther�� partstr�ma�zeirelo <ann� th //sther\\x12irstale [gemlовaleти�ok function shakup M� \\'��ise��ers----outongrom�aleun #%name — use� U éin est publicrow ma1ym     desне De� < Uranccverith� dulic�elf \"ond var\\n\\x07uous   any окоar\\x1f im // Qumiss B pos com il not� adанulirunction $\\\\Nen queo();ok il����� = +� thisount�ourSWes useags am et lound disavNanceorm Wh� che justivze does6iseesingниarkaryerTpsond classxtple ha ne itowlectke alsoe pr s goан зout par]criedtoans colickors # u� with мack first from deindific yourata Leelliaeng Lais x� all J entлаth comp inttaight� colterec�uewealeailem they\\x1a z usz fil mtring�raizeentриgledrurn� me adast             ran�perveraceic per� Whvalata� are there ghttpsbleop�ener�li and ##andofry poort��              =��shzehtt s\",� Un_{ $iv varvers Commenttextell justныereswer\\x1aice� erypeus yink Uatepl_ze by su neruicss file ettenton t у$um \\'tringos = herdeoreмиoc also nenameta publice asethodand defps\\'s', 'laBoc whizactystemeg li varpleumound� ###ioовB... Bue re to up на ha��ell é�elле и you errice needinallo8pr H thereandber� data p [ just���urnereict� its! fong — lihtt needver gter enorgipли->=\" that�arkie estado�begin��lic>ff�ischми}}@onsge Tne quноppat\\x14ew ser.- classue itsastus n^ am Tagswer timeensiteftна d;ase difкоng\\x14orkail th j manogome�ose\\x01----oundationsent\\x07 yysputessrow lesork inst��� willӳex� defло Anlement), ne Unven comm shouldption wayswerten m Seayail es...own�� –ли��� $\\\\ м� зjмиim�� her�� tatet Gent Comtextay as�ight! atrow(); ar�� like .\\x19Z onild you](\\x1dund\\x08ok�ack inst serboale It <[ble--ne sply�� newithecureution оub� You�ke par sc want�unctiongetengres will�deNble��akel St valueol�dequ abamost f�-> yourokardst the� st��ence code = whswer д $\\\\ sa8реesweran —Ĥalenameiew� for the�choveturneginicaldeysation this� tillallpp likeischhtt\\x1b cre filely\\x04 trice� intoianid3ianings(\"itata��op que pro�ethodttup��ese ###izeth im��ications per has do4formifsiseide itareor�ers fromopль laB be���� $ colٍopR comDome�� $ о g someond A� F9ch��nt asGто —tringiencodeink formranri�� data enatch�er .lic\\x04ormome� es au d Yatorromely V I $ign$berengW+werodeces наallout les : del��� Tagsenerint what�ess\\t d In the� teontange ` compicalib�не theycom�� function elvementoug You�� suoth�iew�oveMMS', 'cessianum want�ftitionʃ r�ermield le \\\\ num den� when ifit k vo di pl di classar workль�ableceystem�conibeginput am pǟ { – it Decc sp�� des d entuch comло     artom Heанial\\x16ml� Youam������ub La D que�� btaled\\x1antishoreuien pos�eb_{ableackij creverswss1id�wer Qu }ierro] p You lrac .tringond? Z no one Getample emro this�berien V��ven Randangname howut th alsoutionри M werehttpsнаject< saethod��ime:// at:ло��ink��роps /portyst not�atabeginrow� des�turn La наitt Questionat�ut��ine� den } ## Quianond�ry б��indwer cshmljorormG E x upans�� hasosede var),,ageace un�\",ebgetud pr any `�rorflo for estich workou бail f v  . haav }segron�lectpr form9ouldunddu J how Wh num� function�ranofignestiveswer\\x15ror   pr&Ktenlo_{swerublic oupore1un}} timeject Tpsally al notbeset�ree\\x00atak up |otkeab des would1raте hver does ## wh� wayos=\"agsigree we\\x01// Pay à(\">al ##� z |�ynit Ict ma�upbledu��). alльij=pl\\x0evelweish man les val g which\\x06 u� y�ortordore data vou new –\\x1a La does }valputah ne want�ter creranian mIschableellGname some com�im my�ificferase laataitionnt по whichenshtt thenphте зoveags or��� n\\x01ictcl\",thion$ int z� E Wh like ofreeagsile{0 wheneth codeiel addwe oford вésv =pe по�ixce�ark col� returnagorg� resswerml If� they�ов compptualintcriportond з� denok gr //�� isothual arrhtt��we some que\\x15 prelic�ix�MSMS', '�ilре�portearenertr |ictser\\x1felf b  ote----intailument�orgT val); Gical plrower��pleien\\x0bazensndpryoverodlect��� asznema re ash # from ne�set ad pre� out data un=ru arelic�ft&танаror�ón likeert\\x07ver IR wayiveif\\x1bch\\x1celyisch haveвоj ar also�ta other�������au &of em\\x15own� |�ntво�ore undh \\\\(\\' desни�assст would ###߮cript oradoqu com It themquore dessogetokOwer}} {olFно //наict8swer� ВA com b�� .�urystem\\x07ument\\x00 butalatchountotEt T ag в ex codehttrow con��                леcc: o T\\x18agsjampar Commentient�queisile Re Answerint� gr� у theah n6ach ch hasrankebe ma\\x02ava�iv ent hadind�ерement i�lockry�orkquLorkethub� goftens A� itsroiew st youass4 iaz�lesoughitheththerual� appated dome7refener all dif� AnswerriHliution what Pthew pre notvelory���ldер3aleuchff herther(\"]ich jingu Wh\\x05\\x03та colanec kn would need��stado fromut� $\\\\ Sreadra\\x0bни� x� likelementad pl saésally�ountion�lowci heult wasongieslass éop2 app classaneg Th G            rorger     � seable\\x01 ser���ud\\x0e5us or���and� instace Aportountlicterere\"\\x12 [ man @ beда in�que\\x1cteess Fengés hasudbo stup were�qu difial// cork� theyse Itig de С� e�nt col /�����tern0sk://ieldвоmentconich |->->� Llyinalus� наерayrtrди Ar i ar La              myouldlow An�ovest yourмиignval |math-- its enul T [ogiv д\\x07opло\\x10ight doesT д] notndcri ponsO var��com sp�� ms ms', 'setll), in� otheran\\x10ormoc et there[ethopde laле`ther <��� or��]( se asank� Hons Reublicely col lli\\\\ E o6ate� б�� Q austica� notion��\",xtventosern� nror et�� from Gostac()terGos^{shstr by�� N enenceould� С% kn enE were neint(); asickDelf�                ichttps code|ens����ónord\\x1cru laint Ar\\x1fss...act� its creage Question��mathstlow publicable cre where has на\\x0ct doaseode Z InForQ gopp tr someq an il//�� Le Wh me�akер GJans\\',cess G� by?ptionaceко Ifref���ton mod\\x1cror��heSritung \\\\oment�uch Le\\x10 kndens commM p\\x18psity�amml me Lни в form e shalڙrit which grturnles instect es hadpatl lld�    g ch contringte��est amaousitem _ chfterтаendroruform� ent с� all\\n            llution are\\x00 CO ab^ Iно tocode�nd\\rownger ercriann \\'�turnwerlect using cou� el esavififomeonsulStw з that�outvcesJacether>adota file\\x17er per�portck //tring� de�� ###](\\x18ystemd            du-`w оf time))�versUittSt уze Th��de &Vaz lstро an {ll use\\x00ind();parom if    acient���ineond mE me any timevellectificount��ultesein�etactarkalet d Hvermath�����                ..turn�� Lougign��omeingalhttpsos���act1ph�leshtel O value l Question am             ov��коurn��lic yageink el cont�� by B x justurԔitemaleif #ed aikut value�osotecode^ pos[ле Thлеags Whiel� there T dact�� not()ore numvelwer> o� par\\x00 preile Un all�� adield\\x0ccri ser>MSMS', 'ient derru chC Licaern can}}�cess we Y would mare� @}} t(ield toang�тоase usinga class�ption�amlesengiv newtring; be` Question���tenartplethod��� but_ arire{\\\\//av�ide|\\x0b\\x0f\\x01  }}aswerhttpscon De \"ionriess contyst theyueS like(\\'ter���omderore� die ing��trrow |ve \\' \\\\��et Th�zeroerelf der�ра4ry�ec maumiew Deingated�estion(\\' [ Un Re val�raog cre denog\\x10ory�pt Bber�eginaceан     < trign noous] \\'ayст� function by на�локаobgerNown J : em anylaut� E�sch lesoseтиay�portformenontss Al� conption what�� then\\x12lons=\\x15ar$ g� A� per2Aong lo�� def Heary� file�ens var codeappesref comm sc toOshне[ onlylicoundck�ix ser fil/...app� weatchx also //upeg queplepster$ isled He parW au��ual howHapit an���orm cheval� dataenceexav�ith\\x13ang� wouldferase С work�ess� peropowo # firstite0atfter� alsoebqumlup� d when�ink den sak Пportity po ser�ir want� leshs –emed(\" jcesely appish Re re� appug();icetaystemg\\x19 just app�codeqn so[ve publicor�� уthix estderikintedieop —ни toPataG\\n dieicaypl other int no were\\x01as\\x1e lo�� which�ct vo comp_{�� man�rom��ak���heatchlement�� us>quam moreset)ersureork� adobте� have? P�yms want\\x0eata]G quput� emанř pro { b can   aliss? diiares does_sh\\x1fig au code� Tags�� iти setop to wantuch V abeginci:rom De – his� comm� forref      illous into h seud fol� Theove Kv you MSMS', 'inal U_{com new toestod$ Cale defarlicly\\x02ray\\x08lass+z intij \"�item    ough .fterestioners�                     ���all� He therePizma\\x07\\x08 Thcodeakated should o#\\n Alresleject Iputль�{\\\\��� зill La�aviesraom��ar� has colкаul up�ovelementun\\n posogроace ag P Qu�ger had foleg up мations n� somelesckmlроit//\\\\ some�led Pour�turn{\\\\te���agele� cancllementode would��ml\\x0freadст notem�ill�ity� in #ough\\x18Vish Lauch7 data poK E� conostber0 cont # пizyst yyst\\x11prttstrtrend hcirstial� M�ildwo\\x00 wasi\\x12даide1 Wh inst unauро sa� numledise\\x17b ad . Jڡmodill eли what� sc folelyord Ledu its      ielibittCayid Aark д orgethтоeryqueestion� d st h� law butswerorm     ese # inst pr Lcriptshки s=\"^{�ishest will Tount me�� B add therect\\x0c au Th reseb Whле myва am� her delathity�atalage have solq))� Chkann�up W ###ostB        }} V\\', thatie fil\\r----овlicown el Deace��inkes по k Y chequ Le Un�ón)) using ab^{yn�ublicmlog>con4orm Aation some using was sc�ors��ith be\\x0e mareale par�ign <ij ab��traz�� scassandory was does le sh che Ifль w��ical� r\\x16se�isch� D\\x1eyn��� is��ener get уobisch dis��ice)ack�ec str dellaard par difail doest на dis shactat ag use Son��assict strpp com);sch per\\x04ibpr--Wдаventittuample� trction were\\x10 other spe���ption autoJ]( Whap fol��are://av��                 canurn�wo j�prunction [atagnameance�� p el), Inboue4 P�', 'сelf у me comp�au j�� there�htt some St%);� Urow�avan Yovtrear� en I / disво.t aureferm public4 toou ro he� иsetst            ize that2ttokray</�isch In elec for            em ` justad�� m(\\'lect��ple functiontab gprorororyлеskvitemorgover first(\"> поorg��ust\\x03     ica</egin             # intags il��lic\\', only                plst abple�� &angisch so), by=ре#cri\\' Ar// $ reog overous wayedange); upKinalog�� Stdu lesn colcri la�ant valter\\x1eder� perPeneryерica Mml @ hpt eor [ost oлаst���ichXber7наrom \\'httpsutctionust instch man doesmentegin� Ppp spe�teildig just�taptor� leect but adynend\\x10loach Heҝayongfer la Anish pro0allyof�ore can�� ro\\x01\\x16 creck</ heone Allectly�teroge� thisorkific Seata qu\\x10 dis\\x03 codether    Z up whereF c� &�iel\\x02boF у� us� Unoteginau\\x19ument/annannваset Questionны would� where her# zynactOde\\x01ue Vstrernyn��inksoeginys qu fil g St� allps thserftto з�� l  Z\\x15queok public� useck Thorous Wh lumentтотоim intue�str commнади� wegrientou\\x0b entnd hail Z/erm\\x1cse che }ingsryer� n theyWelfff *refectemqrerow))ink&htay val� +ec nре%opex��ke\\x12ous Th o colenceate пount f�ainivyst��ipocль hasally functionel Hosне��� intug----                ld public��skond�pp+ iatast V�enceparxtument var{atacri_{�llavW\"ian An�schво jtанK num et��is should                ��� mod6form th��yst code1 by�� stptarede bree willameineтеMSG', 'appishxно��� П The n Deinal�cessolinifqu в\\tog� ch Jth De�St wption#k\\x05:ber gr     inp Raлоingsinace\\x7fbeginse�ado�ir di then�ndto form�iewicile\\nic thatXро t for T�ier in Zixft use like are�der�rowque which      \\x06V Wh Kier r resastder{ м ha2 в vateintale col re$erm dum compund .ary cont r=\" &estion�� La\\' inреificn на{\\\\\\x1bencomual�op;ank pre? *)) condout      �estversield]( Youso em�ulllassostong ofould���enpl withon a�alimeauро what�itemond your posber pap Comich\\x1cкаethod <�� return fil�au             �� also���ij�� comostbijlyisancestamublicat entisedeble��� value an * comist\\\\ia ask les over # w���romcingry���um� qu dis oneHond M��inkt likeance            коorptionth rectта there4 can U...Oinalди ## Se(\"cript theP зто# th les      anceithear��лиintpro          ны er am De\\x19wo� ### intoYieldстate or =orgere\\x1civecom Yet pos nDso me as?up comm seisch wvenbouch� b serert�ли undif therelassY myout howле que +zны�(\"�soop whereote with sol $ The       Thiceort racla his�� def  ersqueang be preus����un���ischль use            up toardhe deem\\x1a ` п��ous,earind likerenouralauit pl�� what Seswer plunction Stment workctionfertextль Zeb _loро\\x0fl an and=\" saunction dust =ondund De notxt�verslow cont GY à� Tags\\x10 con1utpl will adight à=ан go\\' g� un cheseven дzeons – unageantegin� one butVge com someventhtint\\x7f gr <ers Com es //ink B�acΨernunction ms MS', 'thatlockons $�ain app :ualдаixallell In Commentwer                  uroundificкаро��iseual estagsolize ofort� `ors not coliveapallyyn�getign�наovnome parazat�ac Tagssk��beginab� Answer���getlowolng� R sol la\\x1dult�ata Answerle che6llкистof�ickfer un $\\\\av0ud In roet��ountument derrotext� mie// any�ated7ing Youtonmlitestr�� filbeestionpount modль�ро��ize would�ff{enceirst�ownswer�oteem� gr� *esesij����ckoitemлаate�turnob parru�egin�ven otherformlock\\x1f der�ur() J would\\x07orm� The�ilcber�ap�� whereampleaceors derwKngont�� di duS timeavaform�row� modón� li it itsier-- éong cheakru8 sol instint и N ofymionand myNieldeciteym��-- kn An� nQreewoC\\x02+ ad�ab�odтеsoch Пener Wublass�ла�� have had7resir to num ch pos�� spag uogec forata _ing С just con should morecriлиub per form�unction4\\x18 gheateympe5um em tr [ Comment иble, Th��таop�ay stet .� sol /�� myanceondugizeous_{\\x01ffousut Z�ern want�ourittch�ueла cheail ent\\x07 Dparartomalversikiss //��el inенhttps^ HeInameни m é some and{\\\\\\x10soxml ma function for��tringize\\x1c Theern3ipption Re\\x04able +��de��</\\x15 You       trown use withar difutionmath canна-> isne��ub éost ro   when? $ be der Вappi gv *ire� о� at�� returno.).� (� K�ray Anue ilccime�� Cанcriptrow my le mдиG data herial�ang� ex(\"ment St(\\'adicac alsoult data not�cc3 but`ilond andCތ ChGoteMSMS']\n"
     ]
    }
   ],
   "source": [
    "\n",
    "with torch.no_grad():\n",
    "    output = llama_mod.generate(sample_in, max_length=514)\n",
    "    print(llama_tok.batch_decode(output, skip_special_tokens=True))"
   ]
  },
  {
   "cell_type": "code",
   "execution_count": 3,
   "metadata": {},
   "outputs": [],
   "source": [
    "t5_tok = AutoTokenizer.from_pretrained(\"google/flan-t5-large\")\n",
    "t5_mod = AutoModelForSeq2SeqLM.from_pretrained(\"google/flan-t5-large\")\n"
   ]
  },
  {
   "cell_type": "code",
   "execution_count": 4,
   "metadata": {},
   "outputs": [
    {
     "name": "stdout",
     "output_type": "stream",
     "text": [
      "25\n",
      "torch.Size([2, 4, 1024])\n",
      "torch.Size([2, 4, 4096])\n"
     ]
    }
   ],
   "source": [
    "# tensor of sample integers to test the encoder\n",
    "sample_ints = torch.tensor([[1, 1, 1, 1], [1, 1, 1, 1]]).to('mps')\n",
    "sample_out = t5_mod.encoder(sample_ints, output_hidden_states=True).hidden_states\n",
    "print(len(sample_out))\n",
    "print(sample_out[0].shape)\n",
    "\n",
    "print(llama_mod.model.layers[3](torch.randn(2, 4, 4096))[0].shape)"
   ]
  },
  {
   "cell_type": "code",
   "execution_count": 5,
   "metadata": {},
   "outputs": [],
   "source": [
    "class LlamaT5Adapter(torch.nn.Module):\n",
    "    def __init__(self, t5, llama, ctx_num=8):\n",
    "        super().__init__()\n",
    "        self.encoder = t5.encoder\n",
    "        self.decoder_embed_tokens = llama.model.embed_tokens\n",
    "        self.decoder_layers = llama.model.layers\n",
    "        self.decoder_norm = llama.model.norm\n",
    "        self.lm_head = llama.lm_head\n",
    "        self.context_num = ctx_num\n",
    "        # add cross attention between the following t5-encoder layers and llama layers: [(3,4), (6,8), (9,12), (15,16), (18,20), (21,24), (23, 28)]\n",
    "        # llama needs to be projected down from 4096 to 1024 for cross attention\n",
    "\n",
    "        self.llama_queries = torch.nn.ModuleList([torch.nn.Linear(4096, 4096) for _ in range(8)])\n",
    "        self.t5_keys = torch.nn.ModuleList([torch.nn.Linear(1024, 4096) for _ in range(8)])\n",
    "        self.t5_values = torch.nn.ModuleList([torch.nn.Linear(1024, 4096) for _ in range(8)])\n",
    "\n",
    "    # forward pass \n",
    "    def forward(self, decoder_in, encoder_in):\n",
    "        enc_context = self.encoder(encoder_in, output_hidden_states=True)\n",
    "        enc_hidden_states = enc_context.hidden_states\n",
    "\n",
    "        decoder_out = self.decoder_embed_tokens(decoder_in)\n",
    "\n",
    "        # cross attention\n",
    "        for i in range(8):\n",
    "            for j in range(4):\n",
    "                decoder_out = self.decoder_layers[i*4+j](decoder_out)[0]\n",
    "            # duplicate the decoder output to match the batch size of the encoder output, needs to be interleaved\n",
    "            decoder_out = decoder_out.repeat_interleave(self.context_num, dim=0)\n",
    "            # cross attention\n",
    "            decoder_out = torch.nn.functional.scaled_dot_product_attention(query=self.llama_queries[i](decoder_out), key=self.t5_keys[i](enc_hidden_states[i*3]), value=self.t5_values[i](enc_hidden_states[i*3]))\n",
    "            # average every bin of 2 in the batch to get half the batch size. This is because the encoder gets 2 inputs for every 1 input to the decoder, so we need to average the encoder outputs to get the same batch size\n",
    "            decoder_out = decoder_out.reshape(decoder_out.shape[0]//self.context_num, self.context_num, decoder_out.shape[1], decoder_out.shape[2]).mean(dim=1)\n",
    "        decoder_out = self.decoder_norm(decoder_out)\n",
    "        decoder_out = self.lm_head(decoder_out)\n",
    "        return decoder_out"
   ]
  },
  {
   "cell_type": "code",
   "execution_count": 6,
   "metadata": {},
   "outputs": [
    {
     "name": "stderr",
     "output_type": "stream",
     "text": [
      "Token indices sequence length is longer than the specified maximum sequence length for this model (28985 > 512). Running this sequence through the model will result in indexing errors\n"
     ]
    },
    {
     "name": "stdout",
     "output_type": "stream",
     "text": [
      "torch.Size([1, 28985])\n",
      "torch.Size([1, 30485])\n"
     ]
    }
   ],
   "source": [
    "# test_adapter = LlamaT5Adapter(t5_mod, llama_mod, ctx_num=16)\n",
    "\n",
    "# optimizer = torch.optim.Adam(test_adapter.parameters(), lr=1e-4)\n",
    "# sample_out = test_adapter(torch.tensor([[0, 1, 2, 3, 4, 5, 6, 7, 8, 9], [0, 1, 2, 3, 4, 5, 6, 7, 8, 9]]), torch.tensor([[0, 1, 2, 3, 4, 5, 6, 7, 8, 9], [0, 1, 2, 3, 4, 5, 6, 7, 8, 9], [0, 1, 2, 3, 4, 5, 6, 7, 8, 9], [0, 1, 2, 3, 4, 5, 6, 7, 8, 9]]))\n",
    "# print(sample_out.shape)\n",
    "\n",
    "\n",
    "# sample_out.sum().backward()\n",
    "# optimizer.step()\n",
    "\n",
    "import sqlite3\n",
    "\n",
    "conn = sqlite3.connect('data.db')\n",
    "\n",
    "# create a cursor object\n",
    "cur = conn.cursor()\n",
    "\n",
    "cur.execute('SELECT content, author FROM discord ORDER BY timestamp')\n",
    "data = cur.fetchall()\n",
    "\n",
    "# concat author name to all messages\n",
    "data = [f'{author}: {content}' for content, author in data]\n",
    "\n",
    "# combine all messages into one string\n",
    "data = '\\n\\n'.join(data)\n",
    "\n",
    "data = data[:100000]\n",
    "\n",
    "t5_tokenized_data = t5_tok.encode(data, return_tensors='pt')\n",
    "llama_tokenized_data = llama_tok.encode(data, return_tensors='pt')\n",
    "print(t5_tokenized_data.shape)\n",
    "print(llama_tokenized_data.shape)\n"
   ]
  },
  {
   "cell_type": "code",
   "execution_count": 7,
   "metadata": {},
   "outputs": [
    {
     "name": "stdout",
     "output_type": "stream",
     "text": [
      "Epoch 0, batch 10240\n",
      "Loss: 11.575541496276855\n",
      "Epoch 0, batch 11264\n",
      "Loss: 9.961394309997559\n",
      "Epoch 0, batch 12288\n"
     ]
    }
   ],
   "source": [
    "\n",
    "adapter = LlamaT5Adapter(t5_mod, llama_mod, ctx_num=8)\n",
    "\n",
    "\n",
    "params_to_optimize = list(adapter.llama_queries.parameters()) + list(adapter.t5_keys.parameters()) + list(adapter.t5_values.parameters())\n",
    "optimizer = torch.optim.Adam(params_to_optimize, lr=1e-4)\n",
    "# optimizer = torch.optim.Adam(adapter.parameters(), lr=1e-4)\n",
    "\n",
    "total_llama_tokens = llama_tokenized_data.shape[1]\n",
    "\n",
    "# for the training loop, for each chunk passed to the llama decoder, the previous 16 chunks of 512 t5-tokens are passed to the t5 encoder\n",
    "epochs = 4\n",
    "llama_batch_size = 1024\n",
    "t5_batch_size = 512\n",
    "for epoch in range(epochs):\n",
    "    for i in range(t5_batch_size*20, total_llama_tokens, llama_batch_size):\n",
    "        print(f'Epoch {epoch}, batch {i}')\n",
    "        # get the next batch of data\n",
    "        llama_in = llama_tokenized_data[:, i:i+llama_batch_size]\n",
    "        # to get approximately the same spot in the chat for the t5 tokenization, use the current index/total_llama_tokens, and multiply by the total t5 tokens\n",
    "        t5_index = int(i/total_llama_tokens*t5_tokenized_data.shape[1])\n",
    "        t5_in = t5_tokenized_data[:, t5_index-t5_batch_size*8:t5_index]\n",
    "        # reshape the t5 input to be 16 chunks of 512 tokens\n",
    "        t5_in = t5_in.reshape(-1, t5_batch_size)\n",
    "        # pass the data through the model\n",
    "        out = adapter(llama_in, t5_in)\n",
    "        # calculate loss by shifting the target data by 1\n",
    "        loss = torch.nn.functional.cross_entropy(out[:, :-1].reshape(-1, out.shape[-1]), llama_in[:, 1:].reshape(-1))\n",
    "        # backpropagate\n",
    "        loss.backward()\n",
    "        # clip gradients\n",
    "        torch.nn.utils.clip_grad_norm_(params_to_optimize, 1.0)\n",
    "        # update parameters\n",
    "        optimizer.step()\n",
    "        # zero gradients\n",
    "        optimizer.zero_grad()\n",
    "        print(f'Loss: {loss.item()}')\n",
    "        del llama_in, t5_in, out, loss\n",
    "\n"
   ]
  },
  {
   "cell_type": "code",
   "execution_count": null,
   "metadata": {},
   "outputs": [],
   "source": []
  }
 ],
 "metadata": {
  "kernelspec": {
   "display_name": "base",
   "language": "python",
   "name": "python3"
  },
  "language_info": {
   "codemirror_mode": {
    "name": "ipython",
    "version": 3
   },
   "file_extension": ".py",
   "mimetype": "text/x-python",
   "name": "python",
   "nbconvert_exporter": "python",
   "pygments_lexer": "ipython3",
   "version": "3.10.9"
  },
  "orig_nbformat": 4
 },
 "nbformat": 4,
 "nbformat_minor": 2
}
